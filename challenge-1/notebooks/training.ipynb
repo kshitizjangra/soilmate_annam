{
  "cells": [
    {
      "cell_type": "code",
      "execution_count": 6,
      "metadata": {
        "id": "nG2h-3cWah1W"
      },
      "outputs": [
        {
          "name": "stdout",
          "output_type": "stream",
          "text": [
            "📁 ml-metrics.json saved successfully.\n"
          ]
        }
      ],
      "source": [
        "\"\"\"\n",
        "\n",
        "Author: Annam.ai IIT Ropar\n",
        "Team Name: SoilMate\n",
        "Team Members: Kshitiz Jangra, Harshal Chaudhari\n",
        "Leaderboard Rank: 62\n",
        "\n",
        "\"\"\"\n",
        "\n",
        "# This is the notebook used for training the model.\n",
        "# Cell 1: Imports\n",
        "import os\n",
        "from sklearn.model_selection import train_test_split\n",
        "from tensorflow.keras.applications import MobileNetV2\n",
        "from tensorflow.keras.models import Sequential\n",
        "from tensorflow.keras.layers import Dense, Flatten, Dropout\n",
        "from tensorflow.keras.optimizers import Adam\n",
        "from tensorflow.keras.callbacks import EarlyStopping\n",
        "from src.preprocessing import load_train_data\n",
        "from src.postprocessing import evaluate_model, plot_training_history\n",
        "\n",
        "# Cell 2: Load data\n",
        "train_dir = '../data/soil-classification/soil_classification-2025/train'\n",
        "labels_path = '../data/soil-classification/soil_classification-2025/train_labels.csv'\n",
        "\n",
        "X, y, mapping, train_df = load_train_data(train_dir, labels_path)\n",
        "X_train, X_val, y_train, y_val = train_test_split(X, y, test_size=0.2, random_state=42)\n",
        "\n",
        "# Cell 3: Define model\n",
        "base_model = MobileNetV2(weights='imagenet', include_top=False, input_shape=(224, 224, 3))\n",
        "base_model.trainable = False\n",
        "\n",
        "model = Sequential([\n",
        "    base_model,\n",
        "    Flatten(),\n",
        "    Dense(1024, activation='relu'),\n",
        "    Dropout(0.5),\n",
        "    Dense(len(mapping), activation='softmax')\n",
        "])\n",
        "\n",
        "model.compile(optimizer=Adam(0.0001), loss='categorical_crossentropy', metrics=['accuracy'])\n",
        "\n",
        "# Cell 4: Train\n",
        "early_stopping = EarlyStopping(monitor='val_loss', patience=10, restore_best_weights=True)\n",
        "\n",
        "history = model.fit(\n",
        "    X_train, y_train,\n",
        "    validation_data=(X_val, y_val),\n",
        "    epochs=45,\n",
        "    batch_size=32,\n",
        "    callbacks=[early_stopping],\n",
        "    verbose=1\n",
        ")\n",
        "\n",
        "# Cell 5: Save model\n",
        "model.save('../working/soil_classification_model.keras')\n",
        "\n",
        "dummy_metrics = {\n",
        "    \"_comment\": \"This JSON file containing the ml-metrics\",\n",
        "    \"Name\": \"Annam.ai\",\n",
        "    \"Kaggle Username\": \"annam.ai\",\n",
        "    \"Team Name\": \"soilclassifiers\",\n",
        "    \"f1 scores\": {\n",
        "        \"_comment\": \"Here are the class wise f1 scores\",\n",
        "        \"alluvial soil\": 0.48,\n",
        "        \"red soil\": 0.48,\n",
        "        \"black soil\": 0.48,\n",
        "        \"clay soil\": 0.48\n",
        "    }\n",
        "}\n",
        "\n",
        "import json\n",
        "with open('../docs/cards/ml-metrics.json', 'w') as f:\n",
        "    json.dump(dummy_metrics, f, indent=4)\n",
        "\n",
        "\n",
        "# Cell 6: Evaluate & visualize\n",
        "evaluate_model(model, X_val, y_val, mapping)\n",
        "plot_training_history(history)\n"
      ]
    }
  ],
  "metadata": {
    "colab": {
      "provenance": []
    },
    "kernelspec": {
      "display_name": "Python 3",
      "name": "python3"
    },
    "language_info": {
      "codemirror_mode": {
        "name": "ipython",
        "version": 3
      },
      "file_extension": ".py",
      "mimetype": "text/x-python",
      "name": "python",
      "nbconvert_exporter": "python",
      "pygments_lexer": "ipython3",
      "version": "3.12.1"
    }
  },
  "nbformat": 4,
  "nbformat_minor": 0
}
