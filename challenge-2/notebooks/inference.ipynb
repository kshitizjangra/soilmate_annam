{
  "cells": [
    {
      "cell_type": "code",
      "execution_count": null,
      "metadata": {
        "id": "nG2h-3cWah1W"
      },
      "outputs": [],
      "source": [
        "\"\"\"\n",
        "\n",
        "Author: Annam.ai IIT Ropar\n",
        "Team Name: SoilMate\n",
        "Team Members: Kshitiz Jangra, Harshal Chaudhari\n",
        "Leaderboard Rank: 62\n",
        "\n",
        "\"\"\"\n",
        "\n",
        "# This is the notebook used for making the inferences using the model trained.\n",
        "\n",
        "import os\n",
        "import pandas as pd\n",
        "import numpy as np\n",
        "from tensorflow.keras.models import load_model\n",
        "from src.preprocessing import load_image, load_image_preprocessed\n",
        "\n",
        "# Load models\n",
        "# If you're in Kaggle, reuse trained models already in memory; else load saved ones.\n",
        "# autoencoder = load_model('autoencoder.h5')\n",
        "# classifier = load_model('classifier.h5')\n",
        "\n",
        "dataset_path = '../data/soil-classification-part-2/soil_competition-2025'\n",
        "test_dir = os.path.join(dataset_path, 'test')\n",
        "test_df = pd.read_csv(os.path.join(dataset_path, 'test_ids.csv'))\n",
        "\n",
        "def predict_combined(image_id):\n",
        "    raw_img = load_image(image_id, path=test_dir)\n",
        "    ae_img = np.expand_dims(raw_img, axis=0)\n",
        "    reconstructed = autoencoder.predict(ae_img)\n",
        "    mse = np.mean(np.square(ae_img - reconstructed))\n",
        "\n",
        "    cls_img = load_image_preprocessed(image_id, path=test_dir)\n",
        "    cls_img = np.expand_dims(cls_img, axis=0)\n",
        "    prob = classifier.predict(cls_img)[0][0]\n",
        "\n",
        "    is_soil = (mse <= ae_threshold) and (prob >= cls_threshold)\n",
        "    return int(is_soil)\n",
        "\n",
        "test_df['label'] = test_df['image_id'].apply(predict_combined)\n",
        "test_df.to_csv('../working/submission.csv', index=False)\n"
      ]
    }
  ],
  "metadata": {
    "colab": {
      "provenance": []
    },
    "kernelspec": {
      "display_name": "Python 3",
      "name": "python3"
    },
    "language_info": {
      "name": "python"
    }
  },
  "nbformat": 4,
  "nbformat_minor": 0
}
